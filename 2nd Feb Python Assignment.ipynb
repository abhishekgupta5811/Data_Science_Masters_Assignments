{
 "cells": [
  {
   "cell_type": "markdown",
   "id": "6e16b46b-5bed-4f87-828b-f9343a5e4975",
   "metadata": {},
   "source": [
    "2nd Feb Python Assignment"
   ]
  },
  {
   "cell_type": "markdown",
   "id": "ae04aaef-6392-402b-a7ac-9f32e9280416",
   "metadata": {},
   "source": [
    "Question 1 Solution:"
   ]
  },
  {
   "cell_type": "markdown",
   "id": "2d65ad77-9304-4b41-b58b-bdc920489817",
   "metadata": {},
   "source": [
    "For loop is preferred to use when we know number of iterations for a particular program or situation, on the other hand we use while loop when we know termination condition."
   ]
  },
  {
   "cell_type": "markdown",
   "id": "2c518d79-eba0-4752-b1ea-ab0033c75f0b",
   "metadata": {},
   "source": [
    "For example, we use for loop to print multiplication table of a number as we know that there will be exactly 10 iterations in general case."
   ]
  },
  {
   "cell_type": "code",
   "execution_count": 1,
   "id": "fd816d91-97a3-4062-8be4-923ce9ace319",
   "metadata": {},
   "outputs": [
    {
     "name": "stdout",
     "output_type": "stream",
     "text": [
      "4 x 1 = 4\n",
      "4 x 2 = 8\n",
      "4 x 3 = 12\n",
      "4 x 4 = 16\n",
      "4 x 5 = 20\n",
      "4 x 6 = 24\n",
      "4 x 7 = 28\n",
      "4 x 8 = 32\n",
      "4 x 9 = 36\n",
      "4 x 10 = 40\n"
     ]
    }
   ],
   "source": [
    "for i in range(10):\n",
    "    print(4, 'x', i + 1, '=', 4 * (i + 1))"
   ]
  },
  {
   "cell_type": "markdown",
   "id": "d311f015-8dda-45a4-8436-5351af97fb79",
   "metadata": {},
   "source": [
    "For example, we can use while loop to count number of digits in a number taken from user as input"
   ]
  },
  {
   "cell_type": "code",
   "execution_count": 2,
   "id": "feac2173-e13b-40af-8f6b-bfc6aba92ebf",
   "metadata": {},
   "outputs": [
    {
     "name": "stdin",
     "output_type": "stream",
     "text": [
      "Enter a number:  34572\n"
     ]
    },
    {
     "name": "stdout",
     "output_type": "stream",
     "text": [
      "Number you have entered has 5 digits.\n"
     ]
    }
   ],
   "source": [
    "num = int(input(\"Enter a number: \"))\n",
    "\n",
    "count = 0\n",
    "\n",
    "while num > 0:\n",
    "    num = num // 10\n",
    "    count = count + 1\n",
    "    \n",
    "print(\"Number you have entered has\", count, \"digits.\")"
   ]
  },
  {
   "cell_type": "markdown",
   "id": "48cfce6f-b9d8-4c4b-81d2-3ad2eec0b10e",
   "metadata": {},
   "source": [
    "Question 2 Solution:"
   ]
  },
  {
   "cell_type": "markdown",
   "id": "69a10d0a-f9b3-4d91-9ae0-c4bcb3bcb3fc",
   "metadata": {},
   "source": [
    "Using 'For Loop'"
   ]
  },
  {
   "cell_type": "code",
   "execution_count": 3,
   "id": "646487f5-4188-4808-a3ca-b7a043fff64d",
   "metadata": {},
   "outputs": [
    {
     "name": "stdout",
     "output_type": "stream",
     "text": [
      "Sum and product of first 10 natural numbers are 55 and 3628800 respectively.\n"
     ]
    }
   ],
   "source": [
    "sum, prod = 0, 1\n",
    "\n",
    "for i in range(1, 11):\n",
    "    sum = sum + i\n",
    "    prod = prod * i\n",
    "    \n",
    "print(\"Sum and product of first 10 natural numbers are\", sum, \"and\", prod, \"respectively.\")"
   ]
  },
  {
   "cell_type": "markdown",
   "id": "0a09e983-7540-49e1-87cf-10f73b5626af",
   "metadata": {},
   "source": [
    "Using 'While Loop'"
   ]
  },
  {
   "cell_type": "code",
   "execution_count": 4,
   "id": "9d3d03ee-c68f-4d6a-9e47-09666bbc7501",
   "metadata": {},
   "outputs": [
    {
     "name": "stdout",
     "output_type": "stream",
     "text": [
      "Sum and product of first 10 natural numbers are 55 and 3628800 respectively.\n"
     ]
    }
   ],
   "source": [
    "sum, prod = 0, 1\n",
    "i = 1\n",
    "\n",
    "while i <= 10:\n",
    "    sum = sum + i\n",
    "    prod = prod * i\n",
    "    i = i + 1\n",
    "\n",
    "print(\"Sum and product of first 10 natural numbers are\", sum, \"and\", prod, \"respectively.\")"
   ]
  },
  {
   "cell_type": "markdown",
   "id": "6836f627-5d93-49d5-9863-984a3e7fa0b4",
   "metadata": {},
   "source": [
    "Question 3 Solution:"
   ]
  },
  {
   "cell_type": "code",
   "execution_count": 5,
   "id": "cbf0bf9d-6941-4081-ad07-020aeed24075",
   "metadata": {},
   "outputs": [
    {
     "name": "stdin",
     "output_type": "stream",
     "text": [
      "Enter units being consumed:  310\n"
     ]
    },
    {
     "name": "stdout",
     "output_type": "stream",
     "text": [
      "Your electricity bill is of Rs. 2250.0\n"
     ]
    }
   ],
   "source": [
    "units = int(input(\"Enter units being consumed: \"))\n",
    "bill = 0\n",
    "\n",
    "if units <= 100:\n",
    "    bill = units * 4.5\n",
    "elif units > 100 and units <= 200:\n",
    "    bill = (100 * 4.5) + (units % 100) * 6\n",
    "elif units > 200 and units <= 300:\n",
    "    bill = (100 * 4.5) + (100 * 6) + (units % 200) * 10\n",
    "else:\n",
    "    bill = (100 * 4.5) + (100 * 6) + (100 * 10) + (units % 300) * 20 \n",
    "    \n",
    "print(\"Your electricity bill is of Rs.\", bill)"
   ]
  },
  {
   "cell_type": "markdown",
   "id": "a1f46ab0-e026-410a-a416-9060f720060b",
   "metadata": {},
   "source": [
    "Question 4 Solution:"
   ]
  },
  {
   "cell_type": "code",
   "execution_count": 6,
   "id": "23d02607-1365-40c8-b125-1be816826d2a",
   "metadata": {},
   "outputs": [],
   "source": [
    "list1 = []"
   ]
  },
  {
   "cell_type": "code",
   "execution_count": 7,
   "id": "d8d86033-a472-4032-b1a5-115d48b29917",
   "metadata": {},
   "outputs": [],
   "source": [
    "# inserting elements 1 to 100 in the list\n",
    "\n",
    "for i in range(1, 101):\n",
    "    list1.append(i)"
   ]
  },
  {
   "cell_type": "code",
   "execution_count": 8,
   "id": "7f0947cc-8be5-44fc-a9c9-9bff29670c89",
   "metadata": {},
   "outputs": [],
   "source": [
    "reslist = []"
   ]
  },
  {
   "cell_type": "markdown",
   "id": "c273c463-797b-45bf-bf75-fe7563401aef",
   "metadata": {},
   "source": [
    "Using for loop to calculate cube of each element of the list1"
   ]
  },
  {
   "cell_type": "code",
   "execution_count": 9,
   "id": "223c435c-0483-4d47-aaf7-9dd657893eb4",
   "metadata": {},
   "outputs": [],
   "source": [
    "for i in list1:\n",
    "    if (i ** 3) % 4 == 0 or (i ** 3) % 5 == 0:\n",
    "        reslist.append(i)"
   ]
  },
  {
   "cell_type": "code",
   "execution_count": 10,
   "id": "a91dd5c9-e765-4cd9-9e9a-d4a939464128",
   "metadata": {},
   "outputs": [
    {
     "data": {
      "text/plain": [
       "[2,\n",
       " 4,\n",
       " 5,\n",
       " 6,\n",
       " 8,\n",
       " 10,\n",
       " 12,\n",
       " 14,\n",
       " 15,\n",
       " 16,\n",
       " 18,\n",
       " 20,\n",
       " 22,\n",
       " 24,\n",
       " 25,\n",
       " 26,\n",
       " 28,\n",
       " 30,\n",
       " 32,\n",
       " 34,\n",
       " 35,\n",
       " 36,\n",
       " 38,\n",
       " 40,\n",
       " 42,\n",
       " 44,\n",
       " 45,\n",
       " 46,\n",
       " 48,\n",
       " 50,\n",
       " 52,\n",
       " 54,\n",
       " 55,\n",
       " 56,\n",
       " 58,\n",
       " 60,\n",
       " 62,\n",
       " 64,\n",
       " 65,\n",
       " 66,\n",
       " 68,\n",
       " 70,\n",
       " 72,\n",
       " 74,\n",
       " 75,\n",
       " 76,\n",
       " 78,\n",
       " 80,\n",
       " 82,\n",
       " 84,\n",
       " 85,\n",
       " 86,\n",
       " 88,\n",
       " 90,\n",
       " 92,\n",
       " 94,\n",
       " 95,\n",
       " 96,\n",
       " 98,\n",
       " 100]"
      ]
     },
     "execution_count": 10,
     "metadata": {},
     "output_type": "execute_result"
    }
   ],
   "source": [
    "reslist"
   ]
  },
  {
   "cell_type": "code",
   "execution_count": 11,
   "id": "578ee06a-2067-49b9-a85d-5bb4ed7a2e77",
   "metadata": {},
   "outputs": [],
   "source": [
    "newlist = []"
   ]
  },
  {
   "cell_type": "markdown",
   "id": "10aab671-a858-4c3d-ad2f-7241dae41f01",
   "metadata": {},
   "source": [
    "Using while loop to calculate cube of each element of the list1"
   ]
  },
  {
   "cell_type": "code",
   "execution_count": 12,
   "id": "4a91cae1-041e-46c1-90e3-ed65d68b5d43",
   "metadata": {},
   "outputs": [],
   "source": [
    "i = 0\n",
    "\n",
    "while i < 100:\n",
    "    if (list1[i] ** 3) % 4 == 0 or (list1[i] ** 3) % 5 == 0:\n",
    "        newlist.append(list1[i])\n",
    "    i = i + 1"
   ]
  },
  {
   "cell_type": "code",
   "execution_count": 13,
   "id": "746e2f1f-670d-4bcc-bb00-0ce122a109a8",
   "metadata": {},
   "outputs": [
    {
     "data": {
      "text/plain": [
       "[2,\n",
       " 4,\n",
       " 5,\n",
       " 6,\n",
       " 8,\n",
       " 10,\n",
       " 12,\n",
       " 14,\n",
       " 15,\n",
       " 16,\n",
       " 18,\n",
       " 20,\n",
       " 22,\n",
       " 24,\n",
       " 25,\n",
       " 26,\n",
       " 28,\n",
       " 30,\n",
       " 32,\n",
       " 34,\n",
       " 35,\n",
       " 36,\n",
       " 38,\n",
       " 40,\n",
       " 42,\n",
       " 44,\n",
       " 45,\n",
       " 46,\n",
       " 48,\n",
       " 50,\n",
       " 52,\n",
       " 54,\n",
       " 55,\n",
       " 56,\n",
       " 58,\n",
       " 60,\n",
       " 62,\n",
       " 64,\n",
       " 65,\n",
       " 66,\n",
       " 68,\n",
       " 70,\n",
       " 72,\n",
       " 74,\n",
       " 75,\n",
       " 76,\n",
       " 78,\n",
       " 80,\n",
       " 82,\n",
       " 84,\n",
       " 85,\n",
       " 86,\n",
       " 88,\n",
       " 90,\n",
       " 92,\n",
       " 94,\n",
       " 95,\n",
       " 96,\n",
       " 98,\n",
       " 100]"
      ]
     },
     "execution_count": 13,
     "metadata": {},
     "output_type": "execute_result"
    }
   ],
   "source": [
    "newlist"
   ]
  },
  {
   "cell_type": "markdown",
   "id": "b981e9f3-9313-40cc-a6f8-3af04e766125",
   "metadata": {},
   "source": [
    "Question 5 Solution:"
   ]
  },
  {
   "cell_type": "code",
   "execution_count": 14,
   "id": "e97b0bd4-b8f7-4bfb-93f2-6879574f2492",
   "metadata": {},
   "outputs": [],
   "source": [
    "string = \"I want to become a data scientist\""
   ]
  },
  {
   "cell_type": "code",
   "execution_count": 15,
   "id": "233f2587-7a5d-4dd9-a488-ca7815f88068",
   "metadata": {},
   "outputs": [],
   "source": [
    "filtered_string = \"\""
   ]
  },
  {
   "cell_type": "code",
   "execution_count": 16,
   "id": "87778c2b-3fe6-4a23-b86a-1af9c08de6af",
   "metadata": {},
   "outputs": [],
   "source": [
    "for i in range(len(string)):\n",
    "    if string[i] == 'a' or string[i] == 'e' or string[i] == 'i' or string[i] == 'o' or string[i] == 'u':\n",
    "        filtered_string = filtered_string + string[i]\n",
    "    elif string[i] == 'A' or string[i] == 'E' or string[i] == 'I' or string[i] == 'O' or string[i] == 'U':\n",
    "        filtered_string = filtered_string + string[i]"
   ]
  },
  {
   "cell_type": "code",
   "execution_count": 17,
   "id": "9dabd9aa-5149-4c24-a6fe-9fc307b9e36d",
   "metadata": {},
   "outputs": [
    {
     "data": {
      "text/plain": [
       "'Iaoeoeaaaiei'"
      ]
     },
     "execution_count": 17,
     "metadata": {},
     "output_type": "execute_result"
    }
   ],
   "source": [
    "filtered_string"
   ]
  },
  {
   "cell_type": "code",
   "execution_count": 18,
   "id": "d8a5df7b-e503-434f-a367-9c7d1790506b",
   "metadata": {},
   "outputs": [
    {
     "name": "stdout",
     "output_type": "stream",
     "text": [
      "Number of vowels in the given string: 12\n"
     ]
    }
   ],
   "source": [
    "print(\"Number of vowels in the given string:\", len(filtered_string))"
   ]
  }
 ],
 "metadata": {
  "kernelspec": {
   "display_name": "Python 3 (ipykernel)",
   "language": "python",
   "name": "python3"
  },
  "language_info": {
   "codemirror_mode": {
    "name": "ipython",
    "version": 3
   },
   "file_extension": ".py",
   "mimetype": "text/x-python",
   "name": "python",
   "nbconvert_exporter": "python",
   "pygments_lexer": "ipython3",
   "version": "3.10.8"
  }
 },
 "nbformat": 4,
 "nbformat_minor": 5
}
