{
 "cells": [
  {
   "cell_type": "markdown",
   "id": "1fdf0b0b-77bd-4411-b9cc-2c0fe33c0763",
   "metadata": {},
   "source": [
    "6th Feb Python Task 1"
   ]
  },
  {
   "cell_type": "markdown",
   "id": "4d65c316-27bb-46b7-a28e-1482ba8a3dc5",
   "metadata": {},
   "source": [
    "Question 1 Solution:"
   ]
  },
  {
   "cell_type": "code",
   "execution_count": 1,
   "id": "ed404fa7-6318-49dd-bf22-f8f26d2c8e67",
   "metadata": {},
   "outputs": [],
   "source": [
    "list1 = [1, 2, 3, 4, [44, 55, 66, True], False, (34, 56, 78, 89, 34), {1, 2, 3, 3, 2, 1}, {1:34, \"key2\":[55, 67, 78, 89], 4: (45, 22, 61, 34)}, [56, 'data science'], 'Machine Learning']"
   ]
  },
  {
   "cell_type": "code",
   "execution_count": 2,
   "id": "aa844b48-4a39-4fd4-a96a-cd881bb6fc02",
   "metadata": {},
   "outputs": [],
   "source": [
    "def nums_prod(l):\n",
    "    nums_list = []\n",
    "    for i in l:\n",
    "        if type(i) == int:\n",
    "            nums_list.append(i)\n",
    "        if type(i) == list:\n",
    "            for j in i:\n",
    "                if type(j) == int:\n",
    "                    nums_list.append(j)\n",
    "        if type(i) == tuple:\n",
    "            for j in i:\n",
    "                if type(j) == int:\n",
    "                    nums_list.append(j)\n",
    "        if type(i) == set:\n",
    "            for j in i:\n",
    "                if type(j) == int:\n",
    "                    nums_list.append(j)\n",
    "        if type(i) == dict:\n",
    "            for j in i.keys():\n",
    "                if type(j) == int:\n",
    "                    nums_list.append(j)\n",
    "            for j in i.values():\n",
    "                if type(j) == int:\n",
    "                    nums_list.append(j)\n",
    "                if type(j) == list:\n",
    "                    for k in j:\n",
    "                        if type(k) == int:\n",
    "                            nums_list.append(k)\n",
    "                if type(j) == tuple:\n",
    "                    for k in j:\n",
    "                        if type(k) == int:\n",
    "                            nums_list.append(k)\n",
    "    prod = 1\n",
    "    \n",
    "    for i in nums_list:\n",
    "        prod = prod * i\n",
    "    \n",
    "    return prod"
   ]
  },
  {
   "cell_type": "code",
   "execution_count": 3,
   "id": "2e00fa14-a93b-4187-9558-25d4f0cb6039",
   "metadata": {},
   "outputs": [],
   "source": [
    "product = nums_prod(list1)"
   ]
  },
  {
   "cell_type": "code",
   "execution_count": 4,
   "id": "3f4a78d8-f610-42ce-a8ff-d93584f07ea6",
   "metadata": {},
   "outputs": [
    {
     "data": {
      "text/plain": [
       "4134711838987085478833841242112000"
      ]
     },
     "execution_count": 4,
     "metadata": {},
     "output_type": "execute_result"
    }
   ],
   "source": [
    "product"
   ]
  },
  {
   "cell_type": "markdown",
   "id": "9af21517-3c9a-4dfc-a2fc-862add305c97",
   "metadata": {},
   "source": [
    "Question 2 Solution:"
   ]
  },
  {
   "cell_type": "code",
   "execution_count": 5,
   "id": "a067a59d-fd4f-4cdd-97ff-800780ea02d7",
   "metadata": {},
   "outputs": [
    {
     "name": "stdin",
     "output_type": "stream",
     "text": [
      "Enter your message:  I want to become Data Scientist.\n"
     ]
    }
   ],
   "source": [
    "message = input(\"Enter your message: \")"
   ]
  },
  {
   "cell_type": "code",
   "execution_count": 6,
   "id": "b776eb8f-57f6-401c-92c7-fe2ace6554a8",
   "metadata": {},
   "outputs": [],
   "source": [
    "message = message.lower()"
   ]
  },
  {
   "cell_type": "code",
   "execution_count": 7,
   "id": "1887a0ce-502e-44d1-8481-48df0b1e4d5c",
   "metadata": {},
   "outputs": [],
   "source": [
    "def encrypt(text):\n",
    "    \n",
    "    base = 97\n",
    "    end = 122\n",
    "    \n",
    "    encrypted_text = ''\n",
    "    \n",
    "    for i in text:\n",
    "        if i == ' ':\n",
    "            encrypted_text = encrypted_text + '$'\n",
    "        elif ord(i) >= 97 and ord(i) <= 122:\n",
    "            shift = ord(i) - base\n",
    "            character = chr((end - shift))\n",
    "            encrypted_text = encrypted_text + character\n",
    "        else:\n",
    "            encrypted_text = encrypted_text + i\n",
    "            \n",
    "    return encrypted_text"
   ]
  },
  {
   "cell_type": "code",
   "execution_count": 8,
   "id": "6c4cac94-a002-4b80-b835-6f54d2794cba",
   "metadata": {},
   "outputs": [],
   "source": [
    "message = encrypt(message)"
   ]
  },
  {
   "cell_type": "code",
   "execution_count": 9,
   "id": "62429428-68b9-4cc0-b0c3-ca79e51b3716",
   "metadata": {},
   "outputs": [
    {
     "data": {
      "text/plain": [
       "'r$dzmg$gl$yvxlnv$wzgz$hxrvmgrhg.'"
      ]
     },
     "execution_count": 9,
     "metadata": {},
     "output_type": "execute_result"
    }
   ],
   "source": [
    "message"
   ]
  }
 ],
 "metadata": {
  "kernelspec": {
   "display_name": "Python 3 (ipykernel)",
   "language": "python",
   "name": "python3"
  },
  "language_info": {
   "codemirror_mode": {
    "name": "ipython",
    "version": 3
   },
   "file_extension": ".py",
   "mimetype": "text/x-python",
   "name": "python",
   "nbconvert_exporter": "python",
   "pygments_lexer": "ipython3",
   "version": "3.10.8"
  }
 },
 "nbformat": 4,
 "nbformat_minor": 5
}
