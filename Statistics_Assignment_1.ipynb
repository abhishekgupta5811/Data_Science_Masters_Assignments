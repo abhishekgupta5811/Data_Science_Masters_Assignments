{
 "cells": [
  {
   "cell_type": "raw",
   "id": "46c9596c-fead-4add-9cdd-545520654d64",
   "metadata": {},
   "source": [
    "Question 1:\n",
    "\n",
    "Statistics is a science of collecting, organizing and analyzing data, where data is facts or pieces of information."
   ]
  },
  {
   "cell_type": "raw",
   "id": "8dd4a2c2-8a9e-454c-87db-22d0645f96e7",
   "metadata": {},
   "source": [
    "Question 2:\n",
    "\n",
    "Statistics is of two types descriptive and inferential. Descriptive statistics deals with organizing and analyzing the collected data. It generally contains concepts of finding the central tendencies like mean, median and mode. On the other hand inferential statistics deals with finding the conclusion from collected data or analyzing the conclusion.\n",
    "\n",
    "For example collecting the data of no. of peoples in a particular locality those who are literate and studied how much. From this data we can find how much average level of education of the locality is there. This average will be the descriptive statistics. Further we can check whether this average is as per as our expectation or not. Here this will be the inferential statistics."
   ]
  },
  {
   "cell_type": "raw",
   "id": "e5b73e21-5a37-45a7-bcda-ec6adc609f34",
   "metadata": {},
   "source": [
    "Question 3:\n",
    "\n",
    "There are two types of data and those are Quantitative data and Qualitative data. Quantitative data deals with the numeric values or numeric type of data in which we can perform the mathematical operations like plus or minus. On the other hand, Qualitative data deals with the data which is non-numeric and here we can not apply mathematical operations on the data like plus or minus.\n",
    "\n",
    "For examples, heights of various student in a class is an example of Quantitative data and collecting gender data of various students in a class is an example of qualitative data."
   ]
  },
  {
   "cell_type": "raw",
   "id": "c674a5ca-89cc-454a-afc5-b93db9416527",
   "metadata": {},
   "source": [
    "Question 4:\n",
    "\n",
    "(i) Qualitative data\n",
    "(ii) Qualitative data\n",
    "(iii) Quantitative data\n",
    "(iv) Quantitative data"
   ]
  },
  {
   "cell_type": "raw",
   "id": "85392711-98c6-4c5d-a527-c78694275307",
   "metadata": {},
   "source": [
    "Question 5:\n",
    "\n",
    "There are four levels of measurement of data. Those are as follows below:\n",
    "(i) Nominal Scale Measurement\n",
    "(ii) Ordinal Scale Measurement\n",
    "(iii) Interval Scale Measurement\n",
    "(iv) Ratio Scale Measurement\n",
    "\n",
    "Nominal scale measurement deals with the data where there in no order or no rank in the type of data like gender or colour.\n",
    "Ex. Data of favourite colours of students in a class.\n",
    "\n",
    "Ordinal scale measurement deals with the data where there is order or rank is present in the data but here we can not find the difference between any two values of the data like review of a software by the users.\n",
    "Ex. Data of Grades of student in a class.\n",
    "\n",
    "Interval scale measurement deals with the data where there is order or rank and we can also find the difference between any two values of the data. But, there is no significance in finding the ratio of two values of the data.\n",
    "Ex. Data of the temperature of room in given set of times.\n",
    "\n",
    "Ratio scale measurement deals with the data where there is order or rank and we can find the difference between any two values of the data as well as if we find the ratio of the two values of the data then this ratio has a significance.\n",
    "Ex. Data of marks of students in a class."
   ]
  },
  {
   "cell_type": "raw",
   "id": "e86df49c-c3e6-4288-8081-c039df32e5e4",
   "metadata": {},
   "source": [
    "Question 6:\n",
    "\n",
    "It is very important to understand the various levels of measurement of data to analyze the data so that we can apply proper method and have or get the correct conclusion from the given data. Proper analyzation of data is important to provide the correct and quality conclusion.\n",
    "\n",
    "For example, if we are collecting the data of temperatures of each hour of a particular city over a period of 24 hours, then in this collected data there is no sense to find the ratio of temperature in two given intervals of time i.e. 40 degree centigrade will not be double of 20 degree centigrade. So, here it's important to understand that given data is of the type Interval Scale Measurement."
   ]
  },
  {
   "cell_type": "raw",
   "id": "82b18edd-d7fa-40e4-8d8c-60617471bc98",
   "metadata": {},
   "source": [
    "Question 7:\n",
    "\n",
    "Nominal data is data where the various values does not have a specific order or they can not be ranked. Example of nominal data can be data of religion of various peoples in a village. In this example, there will not be any order or rank of religion.\n",
    "\n",
    "Ordinal data is data where the various values have can be taken in order or they can be ranked. Example of ordinal data can be data of salaries of various employees in an organization. In this example, we can rank the employees on the basis of their salaries."
   ]
  },
  {
   "cell_type": "raw",
   "id": "1e3ca44e-86be-4e64-89f5-12cffb163cd5",
   "metadata": {},
   "source": [
    "Question 8:\n",
    "\n",
    "We can use discrete quantitive data set to display data in terms of range."
   ]
  },
  {
   "cell_type": "raw",
   "id": "598bac8e-6313-408c-8dd2-38560ae0d6ba",
   "metadata": {},
   "source": [
    "Question 9:\n",
    "\n",
    "Descriptive statistics deals with the sample data, organizes it, analyzes it, generally contains concepts like finding the central tendencies like mean, median and mode.\n",
    "For example, we can collect the data of marks of students in a class in a particular subject and find the average marks that got to the class.\n",
    "\n",
    "On the other hand, inferential statistics deals with generating conclusions from the collected or analyzed data.\n",
    "For example, various news channels find the exit polls of the election using various sample sets and try to predict about the conclusion of the entire population set."
   ]
  },
  {
   "cell_type": "raw",
   "id": "5bcd589e-3945-45b6-9d03-be8ecd513bae",
   "metadata": {},
   "source": [
    "Question 10:\n",
    "\n",
    "There are various measures of central tendency and variability used in statistics. These are as follows:\n",
    "(i) Mean\n",
    "(ii) Median\n",
    "(iii) Mode\n",
    "\n",
    "Each measure can be used in a plot to describe a dataset depending the need, for example if, we want to find the average of the values present in the dataset then we can use mean. Similarly, if we want to find the middle value of the given dataset then we can use median, if we want to find the most occured value in the given dataset then, we can use mode. In this way we can use the various measures of the central tendencies depending on our need."
   ]
  }
 ],
 "metadata": {
  "kernelspec": {
   "display_name": "Python 3 (ipykernel)",
   "language": "python",
   "name": "python3"
  },
  "language_info": {
   "codemirror_mode": {
    "name": "ipython",
    "version": 3
   },
   "file_extension": ".py",
   "mimetype": "text/x-python",
   "name": "python",
   "nbconvert_exporter": "python",
   "pygments_lexer": "ipython3",
   "version": "3.10.8"
  }
 },
 "nbformat": 4,
 "nbformat_minor": 5
}
