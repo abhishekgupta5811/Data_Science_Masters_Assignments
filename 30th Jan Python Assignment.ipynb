{
 "cells": [
  {
   "cell_type": "markdown",
   "id": "6c5e3b4b-9bc5-43e3-8e61-cf973311e68f",
   "metadata": {},
   "source": [
    "30th Jan Python Assignment"
   ]
  },
  {
   "cell_type": "markdown",
   "id": "2aa16ce3-8af1-4124-85fe-f3d56297a4d9",
   "metadata": {},
   "source": [
    "Question 1 Solution:"
   ]
  },
  {
   "cell_type": "code",
   "execution_count": 45,
   "id": "2348c24d-2b73-471e-ab39-af97cdd0e203",
   "metadata": {},
   "outputs": [
    {
     "name": "stdin",
     "output_type": "stream",
     "text": [
      "Enter your percentage:  84\n"
     ]
    },
    {
     "name": "stdout",
     "output_type": "stream",
     "text": [
      "Grade B\n"
     ]
    }
   ],
   "source": [
    "percentage = int(input(\"Enter your percentage: \"))\n",
    "\n",
    "if percentage > 90:\n",
    "    print(\"Grade A\")\n",
    "elif percentage > 80:\n",
    "    print(\"Grade B\")\n",
    "elif percentage >= 60:\n",
    "    print(\"Grade C\")\n",
    "else:\n",
    "    print(\"Grade D\")"
   ]
  },
  {
   "cell_type": "markdown",
   "id": "4fa56b20-104c-48be-946f-894a4fd84303",
   "metadata": {},
   "source": [
    "Question 2 Solution:"
   ]
  },
  {
   "cell_type": "code",
   "execution_count": 46,
   "id": "624dd6ae-7fb6-4855-97e7-c5d2c1eb7ba1",
   "metadata": {},
   "outputs": [
    {
     "name": "stdin",
     "output_type": "stream",
     "text": [
      "Enter cost price of your bike:  52000\n"
     ]
    },
    {
     "name": "stdout",
     "output_type": "stream",
     "text": [
      "Tax 10%\n"
     ]
    }
   ],
   "source": [
    "costPrice = int(input(\"Enter cost price of your bike: \"))\n",
    "\n",
    "if costPrice > 100000:\n",
    "    print(\"Tax 15%\")\n",
    "elif costPrice > 50000:\n",
    "    print(\"Tax 10%\")\n",
    "else:\n",
    "    print(\"Tax 5%\")"
   ]
  },
  {
   "cell_type": "markdown",
   "id": "12cf8948-505d-4766-b730-fc3e5753ed8b",
   "metadata": {},
   "source": [
    "Question 3 Solution:"
   ]
  },
  {
   "cell_type": "code",
   "execution_count": 47,
   "id": "f815e036-3fda-4a9c-91d4-0a0e7e5c8833",
   "metadata": {},
   "outputs": [
    {
     "name": "stdin",
     "output_type": "stream",
     "text": [
      "Enter a city:  Jaipur\n"
     ]
    },
    {
     "name": "stdout",
     "output_type": "stream",
     "text": [
      "Jal Mahal\n"
     ]
    }
   ],
   "source": [
    "city = input(\"Enter a city: \")\n",
    "\n",
    "if city == 'Delhi':\n",
    "    print(\"Red Fort\")\n",
    "elif city == 'Agra':\n",
    "    print(\"Taj Mahal\")\n",
    "elif city == 'Jaipur':\n",
    "    print(\"Jal Mahal\")\n",
    "else:\n",
    "    print(\"Invalid input given!\")"
   ]
  },
  {
   "cell_type": "markdown",
   "id": "35321acd-1e41-4f6a-b56e-4b409f6da0d8",
   "metadata": {},
   "source": [
    "Question 4 Solution:"
   ]
  },
  {
   "cell_type": "code",
   "execution_count": 48,
   "id": "62a1aacc-5b94-4619-8e0f-352649148684",
   "metadata": {},
   "outputs": [
    {
     "name": "stdin",
     "output_type": "stream",
     "text": [
      "Enter a number:  30\n"
     ]
    },
    {
     "name": "stdout",
     "output_type": "stream",
     "text": [
      "1 times\n"
     ]
    }
   ],
   "source": [
    "num = int(input(\"Enter a number: \"))\n",
    "\n",
    "count = 0\n",
    "\n",
    "while num > 10:\n",
    "    num = num / 3\n",
    "    count = count + 1\n",
    "    \n",
    "print(count, \"times\")"
   ]
  },
  {
   "cell_type": "markdown",
   "id": "31e67cc3-2495-48db-b415-f4c066f1777d",
   "metadata": {},
   "source": [
    "Question 5 Solution:"
   ]
  },
  {
   "cell_type": "markdown",
   "id": "f9b5747b-a7af-41e2-9191-11fa2bb66d61",
   "metadata": {},
   "source": [
    "In python or any other programming language we prefer to use while loop when we don't know number of iterations. Instead that we know termination condition. In such cases where number of iterations is not known but termination condition is known, we prefer to use while loop."
   ]
  },
  {
   "cell_type": "markdown",
   "id": "45a19c79-e4eb-451a-904c-230d9c471d61",
   "metadata": {},
   "source": [
    "Question 6 Solution:"
   ]
  },
  {
   "cell_type": "markdown",
   "id": "d0fd01df-8526-4ca4-85f7-b63a2732c9de",
   "metadata": {},
   "source": [
    "Pattern 1"
   ]
  },
  {
   "cell_type": "code",
   "execution_count": 49,
   "id": "6cdaff48-b45a-429b-bbfb-23a09174e0e6",
   "metadata": {},
   "outputs": [
    {
     "name": "stdout",
     "output_type": "stream",
     "text": [
      "* \n",
      "\n",
      "* * \n",
      "\n",
      "* * * \n",
      "\n",
      "* * * * \n",
      "\n",
      "* * * * * \n",
      "\n",
      "* * * * * * \n",
      "\n"
     ]
    }
   ],
   "source": [
    "i = 1\n",
    "\n",
    "while i <= 6:\n",
    "    j = 1\n",
    "    while j <= i:\n",
    "        print('*', end = ' ')\n",
    "        j = j + 1\n",
    "    print('\\n')\n",
    "    i = i + 1"
   ]
  },
  {
   "cell_type": "markdown",
   "id": "6dde74f7-1597-420d-b55c-b6bbc92e0f92",
   "metadata": {},
   "source": [
    "Pattern 2"
   ]
  },
  {
   "cell_type": "code",
   "execution_count": 50,
   "id": "5d0967c5-f604-4a68-ad35-ccecbb9e3267",
   "metadata": {},
   "outputs": [
    {
     "name": "stdout",
     "output_type": "stream",
     "text": [
      "          * \n",
      "\n",
      "        * * * \n",
      "\n",
      "      * * * * * \n",
      "\n",
      "    * * * * * * * \n",
      "\n",
      "  * * * * * * * * * \n",
      "\n"
     ]
    }
   ],
   "source": [
    "i = 1\n",
    "\n",
    "while i <= 5:\n",
    "    j = 1\n",
    "    k = i\n",
    "    while k <= 5:\n",
    "        print('  ', end = '')\n",
    "        k = k + 1\n",
    "    while j <= (2 * i - 1):\n",
    "        print('*', end = ' ')\n",
    "        j = j + 1\n",
    "    print('\\n')\n",
    "    i = i + 1"
   ]
  },
  {
   "cell_type": "markdown",
   "id": "741b501a-9ab0-420c-a32c-48dc6e3aa671",
   "metadata": {},
   "source": [
    "Pattern 3"
   ]
  },
  {
   "cell_type": "code",
   "execution_count": 51,
   "id": "b38382da-5cc1-4a2f-afe0-d3950cd98bd8",
   "metadata": {},
   "outputs": [
    {
     "name": "stdin",
     "output_type": "stream",
     "text": [
      "Enter size of pattern:  5\n"
     ]
    },
    {
     "name": "stdout",
     "output_type": "stream",
     "text": [
      " *   *   *   *   *  \n",
      "\n",
      " *   *   *   *   *  \n",
      "\n",
      " *   *   *   *   *  \n",
      "\n",
      " *   *   *   *   *  \n",
      "\n",
      " *   *   *   *   *  \n",
      "\n"
     ]
    }
   ],
   "source": [
    "size = int(input(\"Enter size of pattern: \"))\n",
    "\n",
    "i = 1\n",
    "while i <= size:\n",
    "    j = 1\n",
    "    while j <=size:\n",
    "        print(' * ', end = ' ')\n",
    "        j = j + 1\n",
    "    print('\\n')\n",
    "    i = i + 1"
   ]
  },
  {
   "cell_type": "markdown",
   "id": "18ae70be-d750-4521-8921-03d1e18f0e92",
   "metadata": {},
   "source": [
    "Question 7 Solution:"
   ]
  },
  {
   "cell_type": "code",
   "execution_count": 52,
   "id": "27a2e5ef-ea4c-4ce5-858a-4a229049f265",
   "metadata": {},
   "outputs": [
    {
     "name": "stdout",
     "output_type": "stream",
     "text": [
      "10\n",
      "9\n",
      "8\n",
      "7\n",
      "6\n",
      "5\n",
      "4\n",
      "3\n",
      "2\n",
      "1\n"
     ]
    }
   ],
   "source": [
    "num = 10\n",
    "\n",
    "while num >= 1:\n",
    "    print(num)\n",
    "    num = num - 1"
   ]
  },
  {
   "cell_type": "markdown",
   "id": "456fc0e2-1862-4980-93b1-3018f219ddef",
   "metadata": {},
   "source": [
    "Question 8 Solution:"
   ]
  },
  {
   "cell_type": "code",
   "execution_count": 53,
   "id": "60c2da12-5829-4b2c-b8e1-a06d2371c3b1",
   "metadata": {},
   "outputs": [
    {
     "name": "stdout",
     "output_type": "stream",
     "text": [
      "10\n",
      "9\n",
      "8\n",
      "7\n",
      "6\n",
      "5\n",
      "4\n",
      "3\n",
      "2\n",
      "1\n"
     ]
    }
   ],
   "source": [
    "i = 10\n",
    "\n",
    "while i >= 1:\n",
    "    print(i)\n",
    "    i = i - 1"
   ]
  }
 ],
 "metadata": {
  "kernelspec": {
   "display_name": "Python 3 (ipykernel)",
   "language": "python",
   "name": "python3"
  },
  "language_info": {
   "codemirror_mode": {
    "name": "ipython",
    "version": 3
   },
   "file_extension": ".py",
   "mimetype": "text/x-python",
   "name": "python",
   "nbconvert_exporter": "python",
   "pygments_lexer": "ipython3",
   "version": "3.10.8"
  }
 },
 "nbformat": 4,
 "nbformat_minor": 5
}
