{
 "cells": [
  {
   "cell_type": "markdown",
   "id": "db7898c5-0e4c-4e4c-a9bb-0720f1862f4d",
   "metadata": {},
   "source": [
    "4th Feb Python Assignment"
   ]
  },
  {
   "cell_type": "markdown",
   "id": "880566e9-8e1f-4f58-91e5-1ff19c98ad2a",
   "metadata": {},
   "source": [
    "Question 2 Solution:"
   ]
  },
  {
   "cell_type": "code",
   "execution_count": 1,
   "id": "2a147d72-77bf-498c-8e00-a2fa86e8e9f7",
   "metadata": {},
   "outputs": [],
   "source": [
    "given_list = [1, 2, 3, 4, 5, 6, 7, 8, 9, 10]"
   ]
  },
  {
   "cell_type": "code",
   "execution_count": 2,
   "id": "be925f6e-1b7f-45d2-aaab-1cc38b2a193b",
   "metadata": {},
   "outputs": [],
   "source": [
    "square = lambda x: x ** 2"
   ]
  },
  {
   "cell_type": "code",
   "execution_count": 3,
   "id": "017465b4-5bc2-4cfc-b3d2-64097dc10f13",
   "metadata": {},
   "outputs": [],
   "source": [
    "resultant_list = list(map(square, given_list))"
   ]
  },
  {
   "cell_type": "code",
   "execution_count": 4,
   "id": "c36a956f-f17b-4546-bb46-9c3305add518",
   "metadata": {},
   "outputs": [
    {
     "data": {
      "text/plain": [
       "[1, 4, 9, 16, 25, 36, 49, 64, 81, 100]"
      ]
     },
     "execution_count": 4,
     "metadata": {},
     "output_type": "execute_result"
    }
   ],
   "source": [
    "resultant_list"
   ]
  },
  {
   "cell_type": "markdown",
   "id": "fdba6f34-ac83-4b71-9844-81ca2cd02f0b",
   "metadata": {},
   "source": [
    "Question 3 Solution:"
   ]
  },
  {
   "cell_type": "code",
   "execution_count": 5,
   "id": "dc0b77e1-be3a-4fac-920c-7fbd4324d911",
   "metadata": {},
   "outputs": [],
   "source": [
    "given_string = [1, 2, 3, 4, 5, 6, 7, 8, 9, 10]"
   ]
  },
  {
   "cell_type": "code",
   "execution_count": 6,
   "id": "0bc5b144-d3dd-44df-bb3c-443ed44163ec",
   "metadata": {},
   "outputs": [],
   "source": [
    "make_string = lambda a: str(a)"
   ]
  },
  {
   "cell_type": "code",
   "execution_count": 7,
   "id": "7166258a-14cc-45d1-bc2d-f19ccced54f0",
   "metadata": {},
   "outputs": [],
   "source": [
    "output_string = tuple(map(make_string, given_string))"
   ]
  },
  {
   "cell_type": "code",
   "execution_count": 8,
   "id": "5ecbd7d7-8942-450d-8813-8dd3db6c0dd1",
   "metadata": {},
   "outputs": [
    {
     "data": {
      "text/plain": [
       "('1', '2', '3', '4', '5', '6', '7', '8', '9', '10')"
      ]
     },
     "execution_count": 8,
     "metadata": {},
     "output_type": "execute_result"
    }
   ],
   "source": [
    "output_string"
   ]
  },
  {
   "cell_type": "markdown",
   "id": "86fdd526-da8b-45f1-a3f7-c349b1a79a82",
   "metadata": {},
   "source": [
    "Question 4 Solution:"
   ]
  },
  {
   "cell_type": "code",
   "execution_count": 9,
   "id": "0736638a-222d-4de1-9469-41db4b9d6b3a",
   "metadata": {},
   "outputs": [],
   "source": [
    "l = [i for i in range(1, 26)]"
   ]
  },
  {
   "cell_type": "code",
   "execution_count": 10,
   "id": "f0452cd7-6f79-4151-882e-4b7a0589087d",
   "metadata": {},
   "outputs": [
    {
     "data": {
      "text/plain": [
       "[1,\n",
       " 2,\n",
       " 3,\n",
       " 4,\n",
       " 5,\n",
       " 6,\n",
       " 7,\n",
       " 8,\n",
       " 9,\n",
       " 10,\n",
       " 11,\n",
       " 12,\n",
       " 13,\n",
       " 14,\n",
       " 15,\n",
       " 16,\n",
       " 17,\n",
       " 18,\n",
       " 19,\n",
       " 20,\n",
       " 21,\n",
       " 22,\n",
       " 23,\n",
       " 24,\n",
       " 25]"
      ]
     },
     "execution_count": 10,
     "metadata": {},
     "output_type": "execute_result"
    }
   ],
   "source": [
    "l"
   ]
  },
  {
   "cell_type": "code",
   "execution_count": 11,
   "id": "d01cf1a9-9b98-4a77-90c0-4316ad3b8d1c",
   "metadata": {},
   "outputs": [],
   "source": [
    "product = lambda x, y: x * y"
   ]
  },
  {
   "cell_type": "code",
   "execution_count": 12,
   "id": "1cd41b37-7201-4494-a33a-1494b94e6eb3",
   "metadata": {},
   "outputs": [],
   "source": [
    "from functools import reduce"
   ]
  },
  {
   "cell_type": "code",
   "execution_count": 13,
   "id": "80fd73c3-99a1-426b-927f-a97fbdb7d521",
   "metadata": {},
   "outputs": [],
   "source": [
    "prod = reduce(product, l)"
   ]
  },
  {
   "cell_type": "code",
   "execution_count": 14,
   "id": "acd2dc05-7c92-4354-8ff1-415840bc5418",
   "metadata": {},
   "outputs": [
    {
     "data": {
      "text/plain": [
       "15511210043330985984000000"
      ]
     },
     "execution_count": 14,
     "metadata": {},
     "output_type": "execute_result"
    }
   ],
   "source": [
    "prod"
   ]
  },
  {
   "cell_type": "markdown",
   "id": "af717a2c-7cb8-4ee2-9e01-ea8ec46bbb71",
   "metadata": {},
   "source": [
    "Question 5 Solution:"
   ]
  },
  {
   "cell_type": "code",
   "execution_count": 15,
   "id": "e2354743-877e-48e4-8131-26f17fdd184c",
   "metadata": {},
   "outputs": [],
   "source": [
    "given_list = [2, 3, 6, 9, 27, 60, 90, 120, 55, 46]"
   ]
  },
  {
   "cell_type": "code",
   "execution_count": 16,
   "id": "2944b03a-38ff-453a-a780-adbc7b93007d",
   "metadata": {},
   "outputs": [],
   "source": [
    "check = lambda x: x if x % 2 == 0 and x % 3 == 0 else None"
   ]
  },
  {
   "cell_type": "code",
   "execution_count": 17,
   "id": "61f5fbff-e068-4dad-b9c4-53ef159fc0a7",
   "metadata": {},
   "outputs": [],
   "source": [
    "filtered_list = list(filter(check, given_list))"
   ]
  },
  {
   "cell_type": "code",
   "execution_count": 18,
   "id": "7661fc54-d461-4772-8dee-3adc6c438422",
   "metadata": {},
   "outputs": [
    {
     "data": {
      "text/plain": [
       "[6, 60, 90, 120]"
      ]
     },
     "execution_count": 18,
     "metadata": {},
     "output_type": "execute_result"
    }
   ],
   "source": [
    "filtered_list"
   ]
  },
  {
   "cell_type": "markdown",
   "id": "8c801161-a4c4-4906-aa5f-f3df292d35bc",
   "metadata": {},
   "source": [
    "Sorry Sir, I tried my best to solve Question 1 and Question 6 but failed to solve it now using specified methods."
   ]
  }
 ],
 "metadata": {
  "kernelspec": {
   "display_name": "Python 3 (ipykernel)",
   "language": "python",
   "name": "python3"
  },
  "language_info": {
   "codemirror_mode": {
    "name": "ipython",
    "version": 3
   },
   "file_extension": ".py",
   "mimetype": "text/x-python",
   "name": "python",
   "nbconvert_exporter": "python",
   "pygments_lexer": "ipython3",
   "version": "3.10.8"
  }
 },
 "nbformat": 4,
 "nbformat_minor": 5
}
