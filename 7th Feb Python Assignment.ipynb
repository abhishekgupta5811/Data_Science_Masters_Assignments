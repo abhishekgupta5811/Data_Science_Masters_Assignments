{
 "cells": [
  {
   "cell_type": "markdown",
   "id": "2372d76d-f805-43c7-809f-01589dd9a155",
   "metadata": {},
   "source": [
    "7th Feb Python Task 2"
   ]
  },
  {
   "cell_type": "markdown",
   "id": "58b389bf-f645-48fb-85c9-83fc710aa019",
   "metadata": {},
   "source": [
    "Question 1 Solution:"
   ]
  },
  {
   "cell_type": "code",
   "execution_count": 1,
   "id": "15cdb4dc-40ca-49ff-b357-f783f07a8224",
   "metadata": {},
   "outputs": [
    {
     "name": "stdin",
     "output_type": "stream",
     "text": [
      "Enter password:  AbHi#8*FeB*2004\n"
     ]
    }
   ],
   "source": [
    "password = input(\"Enter password: \")"
   ]
  },
  {
   "cell_type": "code",
   "execution_count": 2,
   "id": "f1016cc1-54ac-4b0c-b12f-08d453405c0b",
   "metadata": {},
   "outputs": [],
   "source": [
    "def check_password(password):\n",
    "    \n",
    "    if (len(password) < 10):\n",
    "        return \"Invalid Password\"\n",
    "    \n",
    "    uppercase_letters = 0\n",
    "    lowercase_letters = 0\n",
    "    numbers = 0\n",
    "    special_characters = 0\n",
    "    \n",
    "    for i in password:\n",
    "        if i.isupper():\n",
    "            uppercase_letters = uppercase_letters + 1\n",
    "        elif i.islower():\n",
    "            lowercase_letters = lowercase_letters + 1\n",
    "        elif i.isnumeric():\n",
    "            numbers = numbers + 1\n",
    "        else:\n",
    "            special_characters = special_characters + 1\n",
    "            \n",
    "    if (uppercase_letters < 2 or lowercase_letters < 2):\n",
    "        return \"Invalid Password\"\n",
    "    \n",
    "    if (numbers < 1):\n",
    "        return \"Invalid Password\"\n",
    "    \n",
    "    if (special_characters < 3):\n",
    "        return \"Invalid Password\"\n",
    "    \n",
    "    return \"Valid Password\""
   ]
  },
  {
   "cell_type": "code",
   "execution_count": 3,
   "id": "b49a41ee-4f9a-4197-b744-d4d816592d8d",
   "metadata": {},
   "outputs": [],
   "source": [
    "result = check_password(password)"
   ]
  },
  {
   "cell_type": "code",
   "execution_count": 4,
   "id": "37875d22-4284-4db8-873d-96b5539039ed",
   "metadata": {},
   "outputs": [
    {
     "data": {
      "text/plain": [
       "'Valid Password'"
      ]
     },
     "execution_count": 4,
     "metadata": {},
     "output_type": "execute_result"
    }
   ],
   "source": [
    "result"
   ]
  },
  {
   "cell_type": "markdown",
   "id": "6b973ac9-4f01-4f2a-8cb1-72c63c6d48a1",
   "metadata": {},
   "source": [
    "Question 2 Solution:"
   ]
  },
  {
   "cell_type": "markdown",
   "id": "2755ac39-51fc-485e-8c60-4c011b6c16db",
   "metadata": {},
   "source": [
    "Check if the string starts with a particular letter"
   ]
  },
  {
   "cell_type": "code",
   "execution_count": 5,
   "id": "f36b66dc-8cdb-4d38-b935-908467adbaa1",
   "metadata": {},
   "outputs": [
    {
     "name": "stdin",
     "output_type": "stream",
     "text": [
      "Enter a string:  Abhishek \n"
     ]
    }
   ],
   "source": [
    "string = input(\"Enter a string: \")"
   ]
  },
  {
   "cell_type": "code",
   "execution_count": 6,
   "id": "9e2004b1-2d87-4efe-aa5d-d04810fc8330",
   "metadata": {},
   "outputs": [],
   "source": [
    "# Using lambda function\n",
    "check_string_begin_with = lambda str: 'Yes' if str[0] == 'A' else 'No'"
   ]
  },
  {
   "cell_type": "code",
   "execution_count": 7,
   "id": "f9edb110-afe5-46fa-8b3d-bfdc63d7f950",
   "metadata": {},
   "outputs": [
    {
     "data": {
      "text/plain": [
       "'Yes'"
      ]
     },
     "execution_count": 7,
     "metadata": {},
     "output_type": "execute_result"
    }
   ],
   "source": [
    "check_string_begin_with(string)"
   ]
  },
  {
   "cell_type": "markdown",
   "id": "a0455438-7c94-421d-aff6-62939349020c",
   "metadata": {},
   "source": [
    "Check if the string is numeric"
   ]
  },
  {
   "cell_type": "code",
   "execution_count": 8,
   "id": "e1ba0c61-13ff-4f1b-9ec5-fa5fbae2e09f",
   "metadata": {},
   "outputs": [
    {
     "name": "stdin",
     "output_type": "stream",
     "text": [
      "Enter a string:  343434GH\n"
     ]
    }
   ],
   "source": [
    "string2 = input(\"Enter a string: \")"
   ]
  },
  {
   "cell_type": "code",
   "execution_count": 9,
   "id": "c4a6698c-927c-4b5a-8048-8ef4769fcd2b",
   "metadata": {},
   "outputs": [],
   "source": [
    "# Using lambda function\n",
    "check_numeric = lambda str: 'Yes' if str.isnumeric() else 'No'"
   ]
  },
  {
   "cell_type": "code",
   "execution_count": 10,
   "id": "298e519a-84b0-4f32-9422-bf241bace52e",
   "metadata": {},
   "outputs": [
    {
     "data": {
      "text/plain": [
       "'No'"
      ]
     },
     "execution_count": 10,
     "metadata": {},
     "output_type": "execute_result"
    }
   ],
   "source": [
    "check_numeric(string2)"
   ]
  },
  {
   "cell_type": "markdown",
   "id": "4cd3fcbe-0590-463d-a4b0-7b73cb3db53f",
   "metadata": {},
   "source": [
    "Sort a list of tuples having fruit names and their quantity"
   ]
  },
  {
   "cell_type": "code",
   "execution_count": 11,
   "id": "a9057155-b785-4e65-a064-2af7ed951bb9",
   "metadata": {},
   "outputs": [],
   "source": [
    "given_list = [(\"mango\", 99), (\"orange\", 80), (\"grapes\", 1000)]"
   ]
  },
  {
   "cell_type": "code",
   "execution_count": 12,
   "id": "b7a53d50-5015-4273-8b1c-56f20eb58dd5",
   "metadata": {},
   "outputs": [],
   "source": [
    "given_list.sort()"
   ]
  },
  {
   "cell_type": "code",
   "execution_count": 13,
   "id": "0c035f29-ed05-4239-b7b6-812630ee0990",
   "metadata": {},
   "outputs": [
    {
     "data": {
      "text/plain": [
       "[('grapes', 1000), ('mango', 99), ('orange', 80)]"
      ]
     },
     "execution_count": 13,
     "metadata": {},
     "output_type": "execute_result"
    }
   ],
   "source": [
    "given_list"
   ]
  },
  {
   "cell_type": "markdown",
   "id": "3ac64e18-7f75-426d-92df-01338ba7a1d9",
   "metadata": {},
   "source": [
    "Find the squares of numbers from 1 to 10"
   ]
  },
  {
   "cell_type": "code",
   "execution_count": 14,
   "id": "fe9ed2d9-0e21-443c-bd64-6f8d233d2f22",
   "metadata": {},
   "outputs": [
    {
     "data": {
      "text/plain": [
       "[1, 4, 9, 16, 25, 36, 49, 64, 81, 100]"
      ]
     },
     "execution_count": 14,
     "metadata": {},
     "output_type": "execute_result"
    }
   ],
   "source": [
    "# Using List Comprehension\n",
    "[i ** 2 for i in range(1, 11)]"
   ]
  },
  {
   "cell_type": "markdown",
   "id": "92b2db24-34a7-449c-aeb5-3c742b438231",
   "metadata": {},
   "source": [
    "Find the cube root of numbers from 1 to 10"
   ]
  },
  {
   "cell_type": "code",
   "execution_count": 15,
   "id": "7b92ee0a-5869-4738-94d4-8bbcd0294816",
   "metadata": {},
   "outputs": [
    {
     "data": {
      "text/plain": [
       "[1, 8, 27, 64, 125, 216, 343, 512, 729, 1000]"
      ]
     },
     "execution_count": 15,
     "metadata": {},
     "output_type": "execute_result"
    }
   ],
   "source": [
    "# Using List Comprehension\n",
    "[i ** 3 for i in range(1, 11)]"
   ]
  },
  {
   "cell_type": "markdown",
   "id": "844d9acb-be3a-436f-acaf-92cdec7a7bf6",
   "metadata": {},
   "source": [
    "Check if a given number is even"
   ]
  },
  {
   "cell_type": "code",
   "execution_count": 16,
   "id": "9df97c5e-7390-4a39-bf06-e836b0a4cfd3",
   "metadata": {},
   "outputs": [
    {
     "name": "stdin",
     "output_type": "stream",
     "text": [
      "Enter a number:  456790\n"
     ]
    }
   ],
   "source": [
    "number = int(input(\"Enter a number: \"))"
   ]
  },
  {
   "cell_type": "code",
   "execution_count": 17,
   "id": "efb07799-9599-41f0-9282-1d4dd54a49da",
   "metadata": {},
   "outputs": [],
   "source": [
    "# Using lambda function\n",
    "check_even = lambda num: 'Yes even' if num % 2 == 0 else 'No, not even'"
   ]
  },
  {
   "cell_type": "code",
   "execution_count": 18,
   "id": "8511464b-8a6c-4242-818f-9782de595986",
   "metadata": {},
   "outputs": [
    {
     "data": {
      "text/plain": [
       "'Yes even'"
      ]
     },
     "execution_count": 18,
     "metadata": {},
     "output_type": "execute_result"
    }
   ],
   "source": [
    "check_even(number)"
   ]
  },
  {
   "cell_type": "markdown",
   "id": "cb03d92b-9024-425a-be4c-97a59473df9a",
   "metadata": {},
   "source": [
    "Filter odd numbers from the given list"
   ]
  },
  {
   "cell_type": "code",
   "execution_count": 19,
   "id": "faf69ab8-66fe-4be0-9adf-d33bc5e68b93",
   "metadata": {},
   "outputs": [],
   "source": [
    "given_list = [1, 2, 3, 4, 5, 6, 7, 8, 9, 10]"
   ]
  },
  {
   "cell_type": "code",
   "execution_count": 20,
   "id": "99ccb53e-4c3f-4db7-a0e7-3da625be7307",
   "metadata": {},
   "outputs": [],
   "source": [
    "# Using list Comprehension\n",
    "odd_nums_list = list(filter(lambda x: x % 2 == 0, given_list))"
   ]
  },
  {
   "cell_type": "code",
   "execution_count": 21,
   "id": "c9288ae2-50f3-4b7d-925f-099c32fa5240",
   "metadata": {},
   "outputs": [
    {
     "data": {
      "text/plain": [
       "[2, 4, 6, 8, 10]"
      ]
     },
     "execution_count": 21,
     "metadata": {},
     "output_type": "execute_result"
    }
   ],
   "source": [
    "odd_nums_list"
   ]
  },
  {
   "cell_type": "markdown",
   "id": "aa9aa324-42fb-4264-8170-1b34bb85adb2",
   "metadata": {},
   "source": [
    "Sort a list of integers into positive and negative integers lists"
   ]
  },
  {
   "cell_type": "code",
   "execution_count": 22,
   "id": "f9bc5938-e755-4eb2-a7ea-0eee65691c00",
   "metadata": {},
   "outputs": [],
   "source": [
    "given_list = [1, 2, 3, 4, 5, 6, -1, -2, -3, -4, -5, 0]"
   ]
  },
  {
   "cell_type": "code",
   "execution_count": 23,
   "id": "366ab527-4c12-46ed-8660-b961fe84bb9c",
   "metadata": {},
   "outputs": [],
   "source": [
    "positive_int_list = list(filter(lambda x: x > 0, given_list))"
   ]
  },
  {
   "cell_type": "code",
   "execution_count": 24,
   "id": "51b5e386-bb77-4d13-b8ef-f3f44817c796",
   "metadata": {},
   "outputs": [],
   "source": [
    "negative_int_list = list(filter(lambda x: x < 0, given_list))"
   ]
  },
  {
   "cell_type": "code",
   "execution_count": 25,
   "id": "4899cbeb-7916-4408-aa44-48042e9ae3af",
   "metadata": {},
   "outputs": [
    {
     "data": {
      "text/plain": [
       "[1, 2, 3, 4, 5, 6]"
      ]
     },
     "execution_count": 25,
     "metadata": {},
     "output_type": "execute_result"
    }
   ],
   "source": [
    "positive_int_list"
   ]
  },
  {
   "cell_type": "code",
   "execution_count": 26,
   "id": "48f75f47-6a8c-4c01-ab4d-e6bf77177bf4",
   "metadata": {},
   "outputs": [
    {
     "data": {
      "text/plain": [
       "[-1, -2, -3, -4, -5]"
      ]
     },
     "execution_count": 26,
     "metadata": {},
     "output_type": "execute_result"
    }
   ],
   "source": [
    "negative_int_list"
   ]
  }
 ],
 "metadata": {
  "kernelspec": {
   "display_name": "Python 3 (ipykernel)",
   "language": "python",
   "name": "python3"
  },
  "language_info": {
   "codemirror_mode": {
    "name": "ipython",
    "version": 3
   },
   "file_extension": ".py",
   "mimetype": "text/x-python",
   "name": "python",
   "nbconvert_exporter": "python",
   "pygments_lexer": "ipython3",
   "version": "3.10.8"
  }
 },
 "nbformat": 4,
 "nbformat_minor": 5
}
