{
 "cells": [
  {
   "cell_type": "markdown",
   "id": "4ddbd5ae-3555-4838-b433-9c9b11eea68e",
   "metadata": {},
   "source": [
    "Q.1 Solution:"
   ]
  },
  {
   "cell_type": "markdown",
   "id": "9820c84a-d0cd-4fcb-877a-00b436d01143",
   "metadata": {},
   "source": [
    "'Exception' is a block of code in python that may cause error while executing letting the program to crash and prevents the execution of code that is written after that. These are are different from syntax errors as syntax error will surely give error while execution, on other hand exceptions are probable to give error depending on factors like input given, file not found etc. In simple exception indicates such code where there is chances of error to occur."
   ]
  },
  {
   "cell_type": "markdown",
   "id": "ff3f607c-6188-442f-9567-3451945b8274",
   "metadata": {},
   "source": [
    "Q.2 Solution:"
   ]
  },
  {
   "cell_type": "markdown",
   "id": "4d7f059a-df77-45cc-8022-004a0de7c7ed",
   "metadata": {},
   "source": [
    "When an exception is not handled then it crashes the program and prevents the execution of codes that are written after to it."
   ]
  },
  {
   "cell_type": "raw",
   "id": "30586bbf-2007-4b94-9b23-40e79d7d2fba",
   "metadata": {},
   "source": [
    "# For ex:\n",
    "a = 5 # will be executed\n",
    "print(a) # will be executed\n",
    "b = 6 / 0 # this will crash the program as 'Zero Divison Error' occurred and there will be no further execution\n",
    "print(a) # will not be executed\n",
    "print(b) # will not be executed"
   ]
  },
  {
   "cell_type": "markdown",
   "id": "f1d93d47-8286-4d1d-b954-5ca4680dcc96",
   "metadata": {},
   "source": [
    "Q.3 Solution:"
   ]
  },
  {
   "cell_type": "markdown",
   "id": "d89cf37d-48d6-456c-8ae2-c6d994577177",
   "metadata": {},
   "source": [
    "In python, to catch and handle exceptions we use statements 'try', 'except', 'else', and 'finally'."
   ]
  },
  {
   "cell_type": "raw",
   "id": "4906b613-92aa-4714-9750-700bfb6679e3",
   "metadata": {},
   "source": [
    "In 'try' block:\n",
    "    'We put code that is suspected to cause error'\n",
    "In 'except' block:\n",
    "    We put code that has to be executed on unsuccessful execution of code written in 'try' block.\n",
    "In 'else' block:\n",
    "    Whatever code written in 'else' block get executed if 'try' block code get successfully executed.\n",
    "In 'finally' block:\n",
    "    Whatever code written must get executed in any sitution."
   ]
  },
  {
   "cell_type": "markdown",
   "id": "0b393813-769c-4142-908c-c532098d060e",
   "metadata": {},
   "source": [
    "Q.4 Solution:"
   ]
  },
  {
   "cell_type": "code",
   "execution_count": 5,
   "id": "54d1d9e7-7a72-4ba8-87c8-29fce7a8140f",
   "metadata": {},
   "outputs": [
    {
     "name": "stdout",
     "output_type": "stream",
     "text": [
      "Except block is executed.\n",
      "Code written in 'Finally' block must be executed at any condition.\n"
     ]
    }
   ],
   "source": [
    "# Explanation with an example\n",
    "try:\n",
    "    x = open(\"Abhishek.txt\", 'r') # no such file is there in directory, so error will come in this line\n",
    "except Exception as a:\n",
    "    print('Except block is executed.')\n",
    "else:\n",
    "    x.close()\n",
    "    print(\"This block will be executed if 'try' block code get successfully executed.\")\n",
    "finally:\n",
    "    print('Code written in \\'Finally\\' block must be executed at any condition.')"
   ]
  },
  {
   "cell_type": "markdown",
   "id": "4ed13bf8-72d1-4bfd-9581-ed91ea1d7396",
   "metadata": {},
   "source": [
    "Q.5 Solution:"
   ]
  },
  {
   "cell_type": "markdown",
   "id": "18f845ce-298a-4c1a-bbaa-34b3c0e7cee8",
   "metadata": {},
   "source": [
    "Custom Exceptions are those exceptions that are exceptions for us or we want to treat them as exceptions but for machines they are usual or valid code statements, hence so to raise exceptions in those block of code where we want out conditions for checking the validness of the statement, we use custom exceptions."
   ]
  },
  {
   "cell_type": "code",
   "execution_count": 17,
   "id": "9e39de0f-72a7-4443-84a0-52b2b4ff9f78",
   "metadata": {},
   "outputs": [
    {
     "name": "stdin",
     "output_type": "stream",
     "text": [
      "Enter your age:  -23\n"
     ]
    },
    {
     "name": "stdout",
     "output_type": "stream",
     "text": [
      "Age can't be negative.\n"
     ]
    }
   ],
   "source": [
    "# For example:\n",
    "\n",
    "# For system or machine age can be negative but, being a programmer we know that age can't be negative.\n",
    "# So, we can use here custom exception to handle such a case where a user give input of negative age.\n",
    "\n",
    "class age_Validity(Exception):\n",
    "    \n",
    "    def __init__(self, msg):\n",
    "        self.msg = msg\n",
    "\n",
    "def check_Age(age):\n",
    "    if age < 0:\n",
    "        raise age_Validity(\"Age can't be negative.\")\n",
    "    else:\n",
    "        print(\"This is a valid age.\")\n",
    "                \n",
    "try:\n",
    "    age = int(input(\"Enter your age: \"))\n",
    "    check_Age(age)\n",
    "except age_Validity as a:\n",
    "    print(a)"
   ]
  },
  {
   "cell_type": "markdown",
   "id": "9067f50d-a860-4b07-ae96-90b1f231789c",
   "metadata": {},
   "source": [
    "Q.6 Solution:"
   ]
  },
  {
   "cell_type": "code",
   "execution_count": 6,
   "id": "990250c6-f1c0-4964-9925-967832eeb655",
   "metadata": {},
   "outputs": [],
   "source": [
    "class check_Time(Exception):\n",
    "    \n",
    "    def __init__(self, msg):\n",
    "        self.msg = msg"
   ]
  },
  {
   "cell_type": "code",
   "execution_count": 13,
   "id": "5f3ca2dc-97b6-4028-934c-b4f409e93c67",
   "metadata": {},
   "outputs": [],
   "source": [
    "def check(time):\n",
    "    if time <= 0:\n",
    "        raise check_Time(\"Time can't be zero or negative.\")\n",
    "    elif time > 24:\n",
    "        raise check_Time(\"This value is too large.\")\n",
    "    else:\n",
    "        print(\"This is a valid time.\")"
   ]
  },
  {
   "cell_type": "code",
   "execution_count": 14,
   "id": "c2c2d77e-5132-4664-a34c-81d1bc96d02d",
   "metadata": {},
   "outputs": [
    {
     "name": "stdin",
     "output_type": "stream",
     "text": [
      "Enter time(only hour) as per 24 hour format:  -12\n"
     ]
    },
    {
     "name": "stdout",
     "output_type": "stream",
     "text": [
      "Time can't be zero or negative.\n"
     ]
    }
   ],
   "source": [
    "try:\n",
    "    time = int(input(\"Enter time(only hour) as per 24 hour format: \"))\n",
    "    check(time)\n",
    "except check_Time as msg:\n",
    "    print(msg)"
   ]
  }
 ],
 "metadata": {
  "kernelspec": {
   "display_name": "Python 3 (ipykernel)",
   "language": "python",
   "name": "python3"
  },
  "language_info": {
   "codemirror_mode": {
    "name": "ipython",
    "version": 3
   },
   "file_extension": ".py",
   "mimetype": "text/x-python",
   "name": "python",
   "nbconvert_exporter": "python",
   "pygments_lexer": "ipython3",
   "version": "3.10.8"
  }
 },
 "nbformat": 4,
 "nbformat_minor": 5
}
