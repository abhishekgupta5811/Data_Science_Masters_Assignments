{
 "cells": [
  {
   "cell_type": "raw",
   "id": "bdda6465-6c98-4601-91bb-3b5f2a828528",
   "metadata": {},
   "source": [
    "29th Jan Python Assignment"
   ]
  },
  {
   "cell_type": "code",
   "execution_count": null,
   "id": "b06e1789-eb5c-49c6-8dd5-4ebafe5b5a20",
   "metadata": {},
   "outputs": [],
   "source": []
  },
  {
   "cell_type": "raw",
   "id": "8e46146f-1b13-4953-baa6-ee2e662dddd7",
   "metadata": {},
   "source": [
    "Question 1 Solution:\n",
    "\n",
    "Python Programming Language is being developed by 'Guido van Rossum'."
   ]
  },
  {
   "cell_type": "raw",
   "id": "ae868781-cbcd-4909-b2bf-616b5e15f61e",
   "metadata": {},
   "source": []
  },
  {
   "cell_type": "raw",
   "id": "db5944d3-b4fd-4a2a-8f02-73fc8c94805b",
   "metadata": {},
   "source": [
    "Question 2 Solution:\n",
    "\n",
    "Python is very versatile language. It supports 'object-oriented programming'. Beside that it also supports 'functional' and 'structural' programming. It can also be used as 'procedural-programming' language. However everythin in Python is object and hence, it is moreover, object-oriented programming language that is its main feature or beauty over other programming languages."
   ]
  },
  {
   "cell_type": "code",
   "execution_count": null,
   "id": "fb7c7f55-21bd-4aa3-88d7-32de6dcf6a44",
   "metadata": {},
   "outputs": [],
   "source": []
  },
  {
   "cell_type": "raw",
   "id": "7c4041a9-b157-48b2-8a79-8c1b12cc28ad",
   "metadata": {},
   "source": [
    "Question 3 Solution:\n",
    "\n",
    "Yes, python is case sensitive while dealing with identifiers. For example, in python 'name' and 'Name' are two different identifiers."
   ]
  },
  {
   "cell_type": "code",
   "execution_count": null,
   "id": "13c1f998-149a-4dcb-822c-680f13d82a0a",
   "metadata": {},
   "outputs": [],
   "source": []
  },
  {
   "cell_type": "raw",
   "id": "5b6b15f7-92af-4546-b56b-24ae05f6f599",
   "metadata": {},
   "source": [
    "Question 4 Solution:\n",
    "\n",
    "As I know, the correct extension of python file is '.py' that I know till before. However, when I started using pw labs and jupyter notebooks I found that there also extension '.ipynb'. "
   ]
  },
  {
   "cell_type": "code",
   "execution_count": null,
   "id": "e5dfb8d2-98dd-499f-8b21-62220724ae78",
   "metadata": {},
   "outputs": [],
   "source": []
  },
  {
   "cell_type": "raw",
   "id": "6ac6a9b7-52eb-4268-93c8-fde4ddfcbf10",
   "metadata": {},
   "source": [
    "Question 5 Solution:\n",
    "\n",
    "Python Code is being interpreted."
   ]
  },
  {
   "cell_type": "code",
   "execution_count": null,
   "id": "d6c1a7b2-c5ec-43ce-abdb-d637f422cc35",
   "metadata": {},
   "outputs": [],
   "source": []
  },
  {
   "cell_type": "raw",
   "id": "b45c31ce-e4a8-42ce-a3dd-1e102e0aed30",
   "metadata": {},
   "source": [
    "Question 6 Solution:\n",
    "\n",
    "In Python, to define a block of code, their is a concept of indentation."
   ]
  },
  {
   "cell_type": "code",
   "execution_count": null,
   "id": "41306dcc-2a98-41e5-8543-236e374f9d97",
   "metadata": {},
   "outputs": [],
   "source": []
  },
  {
   "cell_type": "raw",
   "id": "ea123c0e-8bed-422f-b0d0-42ebb846073c",
   "metadata": {},
   "source": [
    "Question 7 Solution:\n",
    "\n",
    "In Python, we use '#' symbol to give single-line comments. This symbol is called as 'hash'."
   ]
  },
  {
   "cell_type": "code",
   "execution_count": null,
   "id": "3b8465cd-05c7-4e62-9b2b-6ba45b67035a",
   "metadata": {},
   "outputs": [],
   "source": []
  },
  {
   "cell_type": "raw",
   "id": "f7981d37-ab3c-47bf-ad6e-0d0ccd7f5a5a",
   "metadata": {},
   "source": [
    "Question 8 Solution:\n",
    "\n",
    "To check for current version of python we are working on there is a built-in function called 'python_version()'\n",
    "\n",
    "To use it we have to import python_version from platform library.\n",
    "\n",
    "Code: (given below)"
   ]
  },
  {
   "cell_type": "code",
   "execution_count": 11,
   "id": "41a818fa-7c5f-4b61-8d28-021d9b035c55",
   "metadata": {},
   "outputs": [
    {
     "name": "stdout",
     "output_type": "stream",
     "text": [
      "3.10.8\n"
     ]
    }
   ],
   "source": [
    "# Code to check the current version of python we are working on\n",
    "\n",
    "from platform import python_version\n",
    "\n",
    "print(python_version())"
   ]
  },
  {
   "cell_type": "code",
   "execution_count": null,
   "id": "3f9a5388-3e9a-4b19-90c1-ca5292d8e592",
   "metadata": {},
   "outputs": [],
   "source": []
  },
  {
   "cell_type": "raw",
   "id": "a165f62b-c6ef-4cbd-a7b1-ee789236b3e8",
   "metadata": {},
   "source": [
    "Question 9 Solution:\n",
    "    \n",
    "In Python, we use lambda functions also called as anonymous functions."
   ]
  },
  {
   "cell_type": "code",
   "execution_count": null,
   "id": "b261fdb4-8aa2-4d35-9f97-76b681460a7c",
   "metadata": {},
   "outputs": [],
   "source": []
  },
  {
   "cell_type": "raw",
   "id": "1ff19e5a-7bb2-40cf-851a-040effaeea66",
   "metadata": {},
   "source": [
    "Question 10 Solution:\n",
    "    \n",
    "PIP stands for 'Performance Improvement Plan'. It is used to install and manage verious packages in system or our virtual environment to develop our python projects."
   ]
  },
  {
   "cell_type": "code",
   "execution_count": null,
   "id": "60e88665-99e5-437d-a530-87e67f69b253",
   "metadata": {},
   "outputs": [],
   "source": []
  },
  {
   "cell_type": "raw",
   "id": "4a472f65-8d60-48f8-8052-bcde965e8d68",
   "metadata": {},
   "source": [
    "Question 11 Solution:\n",
    "\n",
    "Some of the inbuilt functions in python that I studied in the course till now are:\n",
    "reverse()\n",
    "append()\n",
    "sum()\n",
    "len()\n",
    "print()\n",
    "extend()\n",
    "map()\n",
    "filter()\n",
    "reduce()"
   ]
  },
  {
   "cell_type": "code",
   "execution_count": null,
   "id": "78e68471-d789-4e27-b5e4-c215a7268f0c",
   "metadata": {},
   "outputs": [],
   "source": []
  },
  {
   "cell_type": "raw",
   "id": "5b42116f-5146-4969-82ca-576bf91da34f",
   "metadata": {},
   "source": [
    "Question 12 Solution:\n",
    "\n",
    "In Python, an identifier can be of 79 characters as max."
   ]
  },
  {
   "cell_type": "code",
   "execution_count": null,
   "id": "83a3aa13-9303-454c-aff1-71e13b4b5d18",
   "metadata": {},
   "outputs": [],
   "source": []
  },
  {
   "cell_type": "raw",
   "id": "5fcd2687-51d5-4a8f-9694-29323462132e",
   "metadata": {},
   "source": [
    "Question 13 Solution:\n",
    "\n",
    "Python is a versatile language, it is a multitasking language.\n",
    "It is very easy to learn as compared to other languages.\n",
    "It is very popular language in current world.\n",
    "It is used in Machine Learning, Deep Learning etc.\n",
    "It is used to build AI based products.\n",
    "It provide big support of libraries as compared to other programming languages."
   ]
  },
  {
   "cell_type": "code",
   "execution_count": null,
   "id": "57489dc1-af5b-429f-9cdd-989a950ec43d",
   "metadata": {},
   "outputs": [],
   "source": []
  },
  {
   "cell_type": "raw",
   "id": "bcc112dd-9d48-426c-8dd4-9ef81580980d",
   "metadata": {},
   "source": [
    "Question 14 Solution:\n",
    "    \n",
    "In python, memory management is automatic, allocation and deallocation is done automatically in python by garbage collector, so there is no need of deallocating unusefull memory manually as it is handled in python automatically."
   ]
  },
  {
   "cell_type": "code",
   "execution_count": null,
   "id": "691d6da5-b11e-4254-aeed-b1ac100ac0a7",
   "metadata": {},
   "outputs": [],
   "source": []
  },
  {
   "cell_type": "raw",
   "id": "de7c9bdb-9f89-4e29-a6bf-224fcd979298",
   "metadata": {},
   "source": [
    "Question 15 Solution:\n",
    "    \n",
    "We are required to go to official site of python, which can be get by searching 'python download' in search engine, then, we are required to install the latest version of python in our windows system, then we have to install it on system. During the install there comes an checkbox, 'add path' we have to check there and install python. Then we can go to ide like vscode and select the interpreter of python from our folder of downloaded python. Hence, setup done, now we can create files with .py extension and write our python code."
   ]
  },
  {
   "cell_type": "code",
   "execution_count": null,
   "id": "168fc576-c3e9-42ce-9113-3514c5a8e1ab",
   "metadata": {},
   "outputs": [],
   "source": []
  },
  {
   "cell_type": "raw",
   "id": "84b15a5e-d72d-40ad-a96f-3252ed84821e",
   "metadata": {},
   "source": [
    "Question 16 Solution:\n",
    "\n",
    "Yes, indentation is required in python, it is very important in python or fundamental concept in python programming language."
   ]
  }
 ],
 "metadata": {
  "kernelspec": {
   "display_name": "Python 3 (ipykernel)",
   "language": "python",
   "name": "python3"
  },
  "language_info": {
   "codemirror_mode": {
    "name": "ipython",
    "version": 3
   },
   "file_extension": ".py",
   "mimetype": "text/x-python",
   "name": "python",
   "nbconvert_exporter": "python",
   "pygments_lexer": "ipython3",
   "version": "3.10.8"
  }
 },
 "nbformat": 4,
 "nbformat_minor": 5
}
