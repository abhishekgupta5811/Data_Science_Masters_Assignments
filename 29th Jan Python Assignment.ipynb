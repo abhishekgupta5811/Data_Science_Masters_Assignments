{
 "cells": [
  {
   "cell_type": "markdown",
   "id": "95e62c6f-1afd-4d08-a670-d070e084db05",
   "metadata": {},
   "source": [
    "29th Jan Python Assignment"
   ]
  },
  {
   "cell_type": "markdown",
   "id": "acd02b1e-b1ca-4939-bdef-797d3368f66d",
   "metadata": {},
   "source": [
    "Question 1 Solution:\n",
    "\n",
    "Python Programming Language is being developed by 'Guido van Rossum'."
   ]
  },
  {
   "cell_type": "markdown",
   "id": "d99f2bde-4670-46e1-a2d6-3f26c8c284dc",
   "metadata": {},
   "source": [
    "Question 2 Solution:\n",
    "\n",
    "Python is very versatile language. It supports 'object-oriented programming'. Beside that it also supports 'functional' and 'structural' programming. It can also be used as 'procedural-programming' language. However everythin in Python is object and hence, it is moreover, object-oriented programming language that is its main feature or beauty over other programming languages."
   ]
  },
  {
   "cell_type": "markdown",
   "id": "5d976791-423f-4e03-a05e-b0c8cab3d832",
   "metadata": {},
   "source": [
    "Question 3 Solution:\n",
    "\n",
    "Yes, python is case sensitive while dealing with identifiers. For example, in python 'name' and 'Name' are two different identifiers."
   ]
  },
  {
   "cell_type": "markdown",
   "id": "ffb84700-7c35-4413-98a1-d0f189002b27",
   "metadata": {},
   "source": [
    "Question 4 Solution:\n",
    "\n",
    "As I know, the correct extension of python file is '.py' that I know till before. However, when I started using pw labs and jupyter notebooks I found that there also extension '.ipynb'."
   ]
  },
  {
   "cell_type": "markdown",
   "id": "ea6d656b-bbfa-44cb-92e2-4b8846a8374d",
   "metadata": {},
   "source": [
    "Question 5 Solution:\n",
    "\n",
    "Python Code is being interpreted."
   ]
  },
  {
   "cell_type": "markdown",
   "id": "b31fb9c9-fe03-4abb-a1e4-2d9853eef5e3",
   "metadata": {},
   "source": [
    "Question 6 Solution:\n",
    "\n",
    "In Python, to define a block of code, their is a concept of indentation."
   ]
  },
  {
   "cell_type": "markdown",
   "id": "ae81a038-5abf-470c-98de-6f174b1a1ff8",
   "metadata": {},
   "source": [
    "Question 7 Solution:\n",
    "\n",
    "In Python, we use '#' symbol to give single-line comments. This symbol is called as 'hash'."
   ]
  },
  {
   "cell_type": "markdown",
   "id": "0aa39bf9-1582-43c4-82e4-36b8e242dc09",
   "metadata": {},
   "source": [
    "Question 8 Solution:\n",
    "\n",
    "To check for current version of python we are working on there is a built-in function called 'python_version()'\n",
    "\n",
    "To use it we have to import python_version from platform library.\n",
    "\n",
    "Code: (given below)"
   ]
  },
  {
   "cell_type": "code",
   "execution_count": 4,
   "id": "41a818fa-7c5f-4b61-8d28-021d9b035c55",
   "metadata": {},
   "outputs": [
    {
     "name": "stdout",
     "output_type": "stream",
     "text": [
      "3.10.8\n"
     ]
    }
   ],
   "source": [
    "# Code to check the current version of python we are working on\n",
    "\n",
    "from platform import python_version\n",
    "\n",
    "print(python_version())"
   ]
  },
  {
   "cell_type": "markdown",
   "id": "ad4bbbde-4282-4338-978f-00bfc4f79994",
   "metadata": {},
   "source": [
    "Question 9 Solution:\n",
    "    \n",
    "In Python, we use lambda functions also called as anonymous functions."
   ]
  },
  {
   "cell_type": "markdown",
   "id": "8485ece4-6c7c-4eff-8b35-cdded15b7e95",
   "metadata": {},
   "source": [
    "Question 10 Solution:\n",
    "    \n",
    "PIP stands for 'Performance Improvement Plan'. It is used to install and manage verious packages in system or our virtual environment to develop our python projects."
   ]
  },
  {
   "cell_type": "markdown",
   "id": "034e66b3-7a34-4ce1-b576-5f6817d71c47",
   "metadata": {},
   "source": [
    "Question 11 Solution:\n",
    "\n",
    "Some of the inbuilt functions in python that I studied in the course till now are:\n",
    "reverse()\n",
    "append()\n",
    "sum()\n",
    "len()\n",
    "print()\n",
    "extend()\n",
    "map()\n",
    "filter()\n",
    "reduce()"
   ]
  },
  {
   "cell_type": "markdown",
   "id": "1704f252-0633-4c93-8c1f-07e66f4e3740",
   "metadata": {},
   "source": [
    "Question 12 Solution:\n",
    "\n",
    "In Python, an identifier can be of 79 characters as max."
   ]
  },
  {
   "cell_type": "markdown",
   "id": "85a37021-d767-43c1-b71d-06975d1d7b8c",
   "metadata": {},
   "source": [
    "Question 13 Solution:\n",
    "\n",
    "Python is a versatile language, it is a multitasking language.\n",
    "It is very easy to learn as compared to other languages.\n",
    "It is very popular language in current world.\n",
    "It is used in Machine Learning, Deep Learning etc.\n",
    "It is used to build AI based products.\n",
    "It provide big support of libraries as compared to other programming languages."
   ]
  },
  {
   "cell_type": "markdown",
   "id": "6430b54a-e702-4d25-983d-24a0b2f6e07a",
   "metadata": {},
   "source": [
    "Question 14 Solution:\n",
    "    \n",
    "In python, memory management is automatic, allocation and deallocation is done automatically in python by garbage collector, so there is no need of deallocating unusefull memory manually as it is handled in python automatically."
   ]
  },
  {
   "cell_type": "markdown",
   "id": "23dfbe03-cca7-4698-a057-58961917206d",
   "metadata": {},
   "source": [
    "Question 15 Solution:\n",
    "    \n",
    "We are required to go to official site of python, which can be get by searching 'python download' in search engine, then, we are required to install the latest version of python in our windows system, then we have to install it on system. During the install there comes an checkbox, 'add path' we have to check there and install python. Then we can go to ide like vscode and select the interpreter of python from our folder of downloaded python. Hence, setup done, now we can create files with .py extension and write our python code."
   ]
  },
  {
   "cell_type": "markdown",
   "id": "7b4b2cf8-dd9d-4b0a-90f0-d43090918901",
   "metadata": {},
   "source": [
    "Question 16 Solution:\n",
    "\n",
    "Yes, indentation is required in python, it is very important in python or fundamental concept in python programming language."
   ]
  }
 ],
 "metadata": {
  "kernelspec": {
   "display_name": "Python 3 (ipykernel)",
   "language": "python",
   "name": "python3"
  },
  "language_info": {
   "codemirror_mode": {
    "name": "ipython",
    "version": 3
   },
   "file_extension": ".py",
   "mimetype": "text/x-python",
   "name": "python",
   "nbconvert_exporter": "python",
   "pygments_lexer": "ipython3",
   "version": "3.10.8"
  }
 },
 "nbformat": 4,
 "nbformat_minor": 5
}
